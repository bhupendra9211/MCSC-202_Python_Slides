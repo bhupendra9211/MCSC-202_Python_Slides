{
 "cells": [
  {
   "cell_type": "markdown",
   "metadata": {},
   "source": [
    "# Branching"
   ]
  },
  {
   "cell_type": "markdown",
   "metadata": {},
   "source": [
    "## if, if-else, if-elif-else Structures"
   ]
  },
  {
   "cell_type": "markdown",
   "metadata": {},
   "source": [
    "###  Example: if"
   ]
  },
  {
   "cell_type": "code",
   "execution_count": 45,
   "metadata": {},
   "outputs": [
    {
     "name": "stdout",
     "output_type": "stream",
     "text": [
      "Welcome to Kathmandu University!\n"
     ]
    }
   ],
   "source": [
    "gpa = 3\n",
    "if gpa > 2.5:\n",
    "    print(\"Welcome to Kathmandu University!\")\n",
    "else:\n",
    "    print(\"Your application is denied.\")\n"
   ]
  },
  {
   "cell_type": "markdown",
   "metadata": {},
   "source": [
    "###  Example: if-else"
   ]
  },
  {
   "cell_type": "code",
   "execution_count": 44,
   "metadata": {},
   "outputs": [
    {
     "name": "stdout",
     "output_type": "stream",
     "text": [
      "Your application is denied.\n"
     ]
    }
   ],
   "source": [
    "gpa = 2\n",
    "if gpa > 2.5:\n",
    "    print(\"Welcome to Kathmandu University!\")\n",
    "else:\n",
    "    print(\"Your application is denied.\")\n"
   ]
  },
  {
   "cell_type": "markdown",
   "metadata": {},
   "source": [
    "###  Example: if-elif-else"
   ]
  },
  {
   "cell_type": "code",
   "execution_count": 43,
   "metadata": {},
   "outputs": [
    {
     "name": "stdout",
     "output_type": "stream",
     "text": [
      "you scored grade B+\n"
     ]
    }
   ],
   "source": [
    "marks = 75\n",
    "if marks>=80 and marks<=100:\n",
    "    print(\"Congrats ! you scored grade A\")\n",
    "    \n",
    "elif marks>=60 and marks<80:\n",
    "    print('you scored grade B+')\n",
    "    \n",
    "elif marks>=40 and marks<60:\n",
    "    print('you scored grade B')\n",
    "    \n",
    "elif marks>=40 and marks<60:\n",
    "    print('you scored grade C')\n",
    "    \n",
    "else: \n",
    "    print(\"Sorry you are fail ?\")    \n",
    "\n"
   ]
  },
  {
   "cell_type": "markdown",
   "metadata": {},
   "source": [
    "### Example: for loop"
   ]
  },
  {
   "cell_type": "code",
   "execution_count": 42,
   "metadata": {},
   "outputs": [
    {
     "name": "stdout",
     "output_type": "stream",
     "text": [
      "1 squared is 1\n",
      "2 squared is 4\n",
      "3 squared is 9\n",
      "4 squared is 16\n"
     ]
    }
   ],
   "source": [
    "for x in range(1, 5):\n",
    "    y = x*x\n",
    "    print(x, \"squared is\", y)\n"
   ]
  },
  {
   "cell_type": "markdown",
   "metadata": {},
   "source": [
    "### Info: The range() type returns an immutable sequence of numbers between the given start integer to the stop integer\n",
    "### syntax\n",
    "- range(stop)\n",
    "- range(start, stop[,step]). Note: stop is exclusive\n",
    "### Examples:"
   ]
  },
  {
   "cell_type": "code",
   "execution_count": null,
   "metadata": {},
   "outputs": [],
   "source": [
    "a = range(10) # integer from 0 to 9\n",
    "for i in a:\n",
    "    print(i)\n"
   ]
  },
  {
   "cell_type": "code",
   "execution_count": 41,
   "metadata": {},
   "outputs": [
    {
     "name": "stdout",
     "output_type": "stream",
     "text": [
      "2\n",
      "3\n",
      "4\n",
      "5\n",
      "6\n",
      "7\n",
      "8\n",
      "9\n"
     ]
    }
   ],
   "source": [
    "a = range(2,10) # integer from 2 to 9\n",
    "for i in a:\n",
    "    print(i)"
   ]
  },
  {
   "cell_type": "code",
   "execution_count": 40,
   "metadata": {},
   "outputs": [
    {
     "name": "stdout",
     "output_type": "stream",
     "text": [
      "2\n",
      "6\n",
      "10\n",
      "14\n",
      "18\n"
     ]
    }
   ],
   "source": [
    "a = range(2,22,4) # integer from 2 to 20 with step jump 3 excluding 20\n",
    "for i in a:\n",
    "    print(i)"
   ]
  },
  {
   "cell_type": "markdown",
   "metadata": {},
   "source": [
    "### Example: while loop"
   ]
  },
  {
   "cell_type": "code",
   "execution_count": 39,
   "metadata": {},
   "outputs": [
    {
     "name": "stdout",
     "output_type": "stream",
     "text": [
      "n =  5\n",
      "n =  25\n",
      "n =  125\n",
      "n =  625\n"
     ]
    }
   ],
   "source": [
    "n = 1\n",
    "while n <= 200:\n",
    "    n = n*5\n",
    "    print(\"n = \", n)"
   ]
  },
  {
   "cell_type": "markdown",
   "metadata": {},
   "source": [
    "## break, continue, pass statements"
   ]
  },
  {
   "cell_type": "markdown",
   "metadata": {},
   "source": [
    "### Example: break statement\n",
    "### Consider a situation where you want to iterate (using for and while loops) over a string  'UNIVERSITY' and want to print all the characters until a letter V\n"
   ]
  },
  {
   "cell_type": "code",
   "execution_count": 38,
   "metadata": {},
   "outputs": [
    {
     "name": "stdout",
     "output_type": "stream",
     "text": [
      "U\n",
      "N\n",
      "I\n",
      "V\n",
      "Out of for loop\n"
     ]
    }
   ],
   "source": [
    "str = 'UNIVERSITY'\n",
    "# Using for loop  \n",
    "for letter in str:\n",
    "    print(letter)\n",
    "    if letter == 'V':\n",
    "        break\n",
    "print('Out of for loop')\n"
   ]
  },
  {
   "cell_type": "code",
   "execution_count": 37,
   "metadata": {},
   "outputs": [
    {
     "name": "stdout",
     "output_type": "stream",
     "text": [
      "U\n",
      "N\n",
      "I\n",
      "V\n",
      "Out of while loop\n"
     ]
    }
   ],
   "source": [
    "str = 'UNIVERSITY'\n",
    "# Using while loop\n",
    "i = 0\n",
    "while True:\n",
    "    print(str[i])\n",
    "    if str[i] == 'V':\n",
    "        break\n",
    "    i = i+1\n",
    "print('Out of while loop')"
   ]
  },
  {
   "cell_type": "markdown",
   "metadata": {},
   "source": [
    "### Example: continue statement\n",
    "### Consider a situation where you want to iterate over a string 'UNIVERSITY' and don’t want to print the letter V\n"
   ]
  },
  {
   "cell_type": "code",
   "execution_count": 36,
   "metadata": {},
   "outputs": [
    {
     "name": "stdout",
     "output_type": "stream",
     "text": [
      "U\n",
      "N\n",
      "I\n",
      "E\n",
      "R\n",
      "S\n",
      "I\n",
      "T\n",
      "Y\n",
      "Out of for loop\n"
     ]
    }
   ],
   "source": [
    "str = 'UNIVERSITY'\n",
    "# Using for loop  \n",
    "for letter in str:\n",
    "    if letter == 'V':\n",
    "        continue\n",
    "    print(letter)\n",
    "print('Out of for loop')\n"
   ]
  },
  {
   "cell_type": "markdown",
   "metadata": {},
   "source": [
    "### Example: pass statement"
   ]
  },
  {
   "cell_type": "code",
   "execution_count": 35,
   "metadata": {},
   "outputs": [
    {
     "name": "stdout",
     "output_type": "stream",
     "text": [
      "U\n",
      "N\n",
      "I\n",
      "V\n",
      "E\n",
      "R\n",
      "S\n",
      "I\n",
      "T\n",
      "Y\n",
      "Out of for loop\n"
     ]
    }
   ],
   "source": [
    "str = 'UNIVERSITY'\n",
    "# Using for loop  \n",
    "for letter in str:\n",
    "    if letter == 'V':\n",
    "        pass\n",
    "    print(letter)\n",
    "print('Out of for loop')"
   ]
  },
  {
   "cell_type": "markdown",
   "metadata": {},
   "source": [
    "### Example: pass statement in a user-defined function"
   ]
  },
  {
   "cell_type": "code",
   "execution_count": 34,
   "metadata": {},
   "outputs": [],
   "source": [
    "def my_fun():\n",
    "    pass\n"
   ]
  },
  {
   "cell_type": "markdown",
   "metadata": {},
   "source": [
    "# Sequence Types"
   ]
  },
  {
   "cell_type": "markdown",
   "metadata": {},
   "source": [
    "## String\n",
    "* Example: String indexing"
   ]
  },
  {
   "cell_type": "code",
   "execution_count": 33,
   "metadata": {},
   "outputs": [
    {
     "name": "stdout",
     "output_type": "stream",
     "text": [
      "str[0] =  H\n",
      "str[1] =  E\n",
      "str[2] =  L\n",
      "str[3] =  L\n",
      "str[4] =  O\n",
      "str[-1] =  O\n",
      "str[-3] =  L\n"
     ]
    }
   ],
   "source": [
    "str = \"HELLO\"\n",
    "print('str[0] = ',str[0])\n",
    "print('str[1] = ',str[1])\n",
    "print('str[2] = ',str[2])\n",
    "print('str[3] = ',str[3])\n",
    "print('str[4] = ',str[4])\n",
    "print('str[-1] = ',str[-1])\n",
    "print('str[-3] = ',str[-3])"
   ]
  },
  {
   "cell_type": "markdown",
   "metadata": {},
   "source": [
    "## String\n",
    "* Example: String slicing"
   ]
  },
  {
   "cell_type": "code",
   "execution_count": 32,
   "metadata": {},
   "outputs": [
    {
     "name": "stdout",
     "output_type": "stream",
     "text": [
      "str[:] =  HELLO\n",
      "str[0:] =  HELLO\n",
      "str[0:4] =  HELL\n",
      "str[0:5] =  HELLO\n",
      "str[0:-1] =  HELL\n",
      "str[2:] =  LLO\n",
      "str[2:4] =  LL\n"
     ]
    }
   ],
   "source": [
    "str = \"HELLO\"\n",
    "print('str[:] = ',str[:])\n",
    "print('str[0:] = ',str[0:])\n",
    "print('str[0:4] = ',str[0:4])\n",
    "print('str[0:5] = ',str[0:5])\n",
    "print('str[0:-1] = ',str[0:-1])\n",
    "print('str[2:] = ',str[2:])\n",
    "print('str[2:4] = ',str[2:4])"
   ]
  },
  {
   "cell_type": "markdown",
   "metadata": {},
   "source": [
    "## String\n",
    "* Example: Operations +, * on strings"
   ]
  },
  {
   "cell_type": "code",
   "execution_count": 31,
   "metadata": {},
   "outputs": [
    {
     "name": "stdout",
     "output_type": "stream",
     "text": [
      "HelloRam\n",
      "Hello  Ram\n",
      "RamRamRam\n"
     ]
    }
   ],
   "source": [
    "\n",
    "str1 = 'Hello'\n",
    "str2 = 'Ram'\n",
    "R1 = str1 + str2 \n",
    "print(R1)\n",
    "R2 = str1 + '  ' + str2 \n",
    "print (R2)\n",
    "R3 = 3*str2 \n",
    "print(R3)\n"
   ]
  },
  {
   "cell_type": "markdown",
   "metadata": {},
   "source": [
    "## String\n",
    "### Methods: capitalize(), split(), count(), len()\n",
    "#### Examples:"
   ]
  },
  {
   "cell_type": "code",
   "execution_count": 30,
   "metadata": {},
   "outputs": [
    {
     "name": "stdout",
     "output_type": "stream",
     "text": [
      "Kathmandu university\n",
      "KATHMANDU UNIVERSITY\n",
      "['kathmandu', 'university']\n",
      "2\n",
      "20\n"
     ]
    }
   ],
   "source": [
    "str = 'kathmandu university'\n",
    "print(str.capitalize())\n",
    "print(str.upper())\n",
    "print(str.split())\n",
    "print(str.count('a'))\n",
    "print(len(str)) "
   ]
  },
  {
   "cell_type": "markdown",
   "metadata": {},
   "source": [
    "### Example: String is immutable"
   ]
  },
  {
   "cell_type": "code",
   "execution_count": 29,
   "metadata": {},
   "outputs": [
    {
     "ename": "TypeError",
     "evalue": "'str' object does not support item assignment",
     "output_type": "error",
     "traceback": [
      "\u001b[1;31m---------------------------------------------------------------------------\u001b[0m",
      "\u001b[1;31mTypeError\u001b[0m                                 Traceback (most recent call last)",
      "\u001b[1;32m<ipython-input-29-7587770291d4>\u001b[0m in \u001b[0;36m<module>\u001b[1;34m\u001b[0m\n\u001b[0;32m      1\u001b[0m \u001b[0mstr\u001b[0m \u001b[1;33m=\u001b[0m \u001b[1;34m'Hello'\u001b[0m\u001b[1;33m\u001b[0m\u001b[1;33m\u001b[0m\u001b[0m\n\u001b[1;32m----> 2\u001b[1;33m \u001b[0mstr\u001b[0m\u001b[1;33m[\u001b[0m\u001b[1;36m0\u001b[0m\u001b[1;33m]\u001b[0m \u001b[1;33m=\u001b[0m \u001b[1;34m'S'\u001b[0m\u001b[1;33m\u001b[0m\u001b[1;33m\u001b[0m\u001b[0m\n\u001b[0m",
      "\u001b[1;31mTypeError\u001b[0m: 'str' object does not support item assignment"
     ]
    }
   ],
   "source": [
    "str = 'Hello'\n",
    "str[0] = 'S'"
   ]
  },
  {
   "cell_type": "markdown",
   "metadata": {},
   "source": [
    "# List"
   ]
  },
  {
   "cell_type": "markdown",
   "metadata": {},
   "source": [
    "### Example: Indexing the List"
   ]
  },
  {
   "cell_type": "code",
   "execution_count": 28,
   "metadata": {},
   "outputs": [
    {
     "name": "stdout",
     "output_type": "stream",
     "text": [
      "List[0] =  3\n",
      "List[1] =  -2\n",
      "List[2] =  5\n",
      "List[3] =  0\n",
      "List[4] =  7\n",
      "List[-1] =  -2\n",
      "List[-3] =  5\n"
     ]
    }
   ],
   "source": [
    "List = [3, -2, 5, 0, 7] # Encolsed by square bracket\n",
    "print('List[0] = ',List[0])\n",
    "print('List[1] = ',List[1])\n",
    "print('List[2] = ',List[2])\n",
    "print('List[3] = ',List[3])\n",
    "print('List[4] = ',List[4])\n",
    "print('List[-1] = ',List[1])\n",
    "print('List[-3] = ',List[-3])"
   ]
  },
  {
   "cell_type": "markdown",
   "metadata": {},
   "source": [
    "### Example: Slicing the List"
   ]
  },
  {
   "cell_type": "code",
   "execution_count": 27,
   "metadata": {},
   "outputs": [
    {
     "name": "stdout",
     "output_type": "stream",
     "text": [
      "List[:] =  [3, -2, 5, 0, 7]\n",
      "List[0:] =  [3, -2, 5, 0, 7]\n",
      "List[0:4] =  [3, -2, 5, 0]\n",
      "List[0:5] =  [3, -2, 5, 0, 7]\n",
      "List[0:-1] =  [3, -2, 5, 0]\n",
      "List[2:] =  [5, 0, 7]\n",
      "List[1:4] =  [-2, 5, 0]\n"
     ]
    }
   ],
   "source": [
    "List = [3, -2, 5, 0, 7]\n",
    "print('List[:] = ', List[:])\n",
    "print('List[0:] = ', List[0:])\n",
    "print('List[0:4] = ', List[0:4])\n",
    "print('List[0:5] = ', List[0:5])\n",
    "print('List[0:-1] = ', List[0:-1])\n",
    "print('List[2:] = ', List[2:])\n",
    "print('List[1:4] = ', List[1:4])"
   ]
  },
  {
   "cell_type": "markdown",
   "metadata": {},
   "source": [
    "### Example: Updating the List"
   ]
  },
  {
   "cell_type": "code",
   "execution_count": 26,
   "metadata": {},
   "outputs": [
    {
     "name": "stdout",
     "output_type": "stream",
     "text": [
      "[4, -2, 5, 0, 7]\n",
      "[4, -2, 5, 0, 'H']\n"
     ]
    }
   ],
   "source": [
    "List = [3, -2, 5, 0, 7]\n",
    "List[0] = 4\n",
    "print(List)\n",
    "List[-1] = 'H'\n",
    "print(List)"
   ]
  },
  {
   "cell_type": "markdown",
   "metadata": {},
   "source": [
    "### Example: Operations +, * on lists"
   ]
  },
  {
   "cell_type": "code",
   "execution_count": 25,
   "metadata": {},
   "outputs": [
    {
     "name": "stdout",
     "output_type": "stream",
     "text": [
      "L1+L2 =  [1, 3, 4, 5, 2, 7, -1]\n",
      "3*L1 =  [1, 3, 4, 1, 3, 4, 1, 3, 4]\n"
     ]
    }
   ],
   "source": [
    "L1 = [1, 3, 4]\n",
    "L2 = [5, 2, 7,-1]\n",
    "L3 = L1 + L2\n",
    "print('L1+L2 = ', L3)\n",
    "L4 = 3*L1\n",
    "print('3*L1 = ', L4)"
   ]
  },
  {
   "cell_type": "markdown",
   "metadata": {},
   "source": [
    "### Example: Iteration through a List"
   ]
  },
  {
   "cell_type": "code",
   "execution_count": 24,
   "metadata": {},
   "outputs": [
    {
     "name": "stdout",
     "output_type": "stream",
     "text": [
      "Pradeep\n",
      "Diwas\n",
      "Dikesh\n",
      "Suchit\n",
      "Oshan\n",
      "Sumit\n",
      "Binod\n",
      "Ayush\n",
      "Susmita\n",
      "Sanket\n",
      "Utsav\n",
      "Sanjeev\n",
      "Bigen\n",
      "Gaurab\n",
      "Partha\n",
      "Manish\n",
      "Sagar\n",
      "Paras\n",
      "Baibhav\n",
      "Sudip\n",
      "Shiva\n",
      "Bikram\n",
      "Pranjal\n"
     ]
    }
   ],
   "source": [
    "List = ['Pradeep','Diwas','Dikesh','Suchit','Oshan','Sumit','Binod','Ayush','Susmita','Sanket','Utsav','Sanjeev','Bigen','Gaurab','Partha','Manish','Sagar','Paras','Baibhav','Sudip','Shiva','Bikram','Pranjal']\n",
    "for name in List:\n",
    "    print(name)"
   ]
  },
  {
   "cell_type": "markdown",
   "metadata": {},
   "source": [
    "###  Examples: Functions on the Lists"
   ]
  },
  {
   "cell_type": "code",
   "execution_count": null,
   "metadata": {},
   "outputs": [],
   "source": [
    "data  = [3, 4.5, -2, 0, 1]\n",
    "print('Lenght = ',len(data))\n",
    "print('Max = ',max(data))\n",
    "print('Min = ',min(data))\n",
    "print('Lenght = ',len(data))"
   ]
  },
  {
   "cell_type": "markdown",
   "metadata": {},
   "source": [
    "###  Examples:  Methods on the Lists"
   ]
  },
  {
   "cell_type": "code",
   "execution_count": 18,
   "metadata": {},
   "outputs": [
    {
     "name": "stdout",
     "output_type": "stream",
     "text": [
      "list =  [2, 3, 4.5, -2, 0, 1, 3, 7]\n"
     ]
    }
   ],
   "source": [
    "list  = [2, 3, 4.5, -2, 0, 1,3]\n",
    "list.append(7) # Insert 7 at the end of the list\n",
    "print('list = ', list)"
   ]
  },
  {
   "cell_type": "code",
   "execution_count": 19,
   "metadata": {},
   "outputs": [
    {
     "name": "stdout",
     "output_type": "stream",
     "text": [
      "[2, 4.5, -2, 0, 1, 3, 7]\n"
     ]
    }
   ],
   "source": [
    "list.remove(3) # fist encountered number 3 in the list will be removed\n",
    "print(list)"
   ]
  },
  {
   "cell_type": "code",
   "execution_count": 20,
   "metadata": {},
   "outputs": [
    {
     "name": "stdout",
     "output_type": "stream",
     "text": [
      "[2, -5, 4.5, -2, 0, 1, 3, 7]\n"
     ]
    }
   ],
   "source": [
    "list.insert(1,-5) # in the index 1,the numner -5 is inserted \n",
    "print(list)"
   ]
  },
  {
   "cell_type": "code",
   "execution_count": 21,
   "metadata": {},
   "outputs": [
    {
     "name": "stdout",
     "output_type": "stream",
     "text": [
      "[7, 3, 1, 0, -2, 4.5, -5, 2]\n"
     ]
    }
   ],
   "source": [
    "list.reverse() # indexing will be reversed\n",
    "print(list)"
   ]
  },
  {
   "cell_type": "code",
   "execution_count": 22,
   "metadata": {},
   "outputs": [
    {
     "name": "stdout",
     "output_type": "stream",
     "text": [
      "[-5, -2, 0, 1, 2, 3, 4.5, 7]\n"
     ]
    }
   ],
   "source": [
    "list.sort() # sorted in the ascending order\n",
    "print(list)"
   ]
  },
  {
   "cell_type": "code",
   "execution_count": 23,
   "metadata": {},
   "outputs": [
    {
     "name": "stdout",
     "output_type": "stream",
     "text": [
      "[7, 4.5, 3, 2, 1, 0, -2, -5]\n"
     ]
    }
   ],
   "source": [
    "list.sort(reverse=True) # sorted in the descending order\n",
    "print(list)"
   ]
  },
  {
   "cell_type": "markdown",
   "metadata": {},
   "source": [
    "# Tuple\n",
    "## Example: Indexing the tuple"
   ]
  },
  {
   "cell_type": "code",
   "execution_count": 15,
   "metadata": {},
   "outputs": [
    {
     "name": "stdout",
     "output_type": "stream",
     "text": [
      "tupe[0] =  3\n",
      "tupe[1] =  -2\n",
      "tupe[2] =  5\n",
      "tupe[3] =  0\n",
      "tupe[4] =  7\n",
      "tupe[-1] =  -2\n",
      "tupe[-3] =  5\n"
     ]
    }
   ],
   "source": [
    "tupe = (3, -2, 5, 0, 7) # Encolsed by round bracket\n",
    "print('tupe[0] = ',tupe[0])\n",
    "print('tupe[1] = ',tupe[1])\n",
    "print('tupe[2] = ',tupe[2])\n",
    "print('tupe[3] = ',tupe[3])\n",
    "print('tupe[4] = ',tupe[4])\n",
    "print('tupe[-1] = ',tupe[1])\n",
    "print('tupe[-3] = ',tupe[-3])"
   ]
  },
  {
   "cell_type": "markdown",
   "metadata": {},
   "source": [
    "## Example: Slicing the tuple"
   ]
  },
  {
   "cell_type": "code",
   "execution_count": 14,
   "metadata": {},
   "outputs": [
    {
     "name": "stdout",
     "output_type": "stream",
     "text": [
      "T[:] =  (3, -2, 5, 0, 7)\n",
      "T[0:] =  (3, -2, 5, 0, 7)\n",
      "T[0:4] =  (3, -2, 5, 0)\n",
      "T[0:5] =  (3, -2, 5, 0, 7)\n",
      "T[0:-1] =  (3, -2, 5, 0)\n",
      "T[2:] =  (5, 0, 7)\n",
      "T[1:4] =  (-2, 5, 0)\n"
     ]
    }
   ],
   "source": [
    "T = (3, -2, 5, 0, 7)\n",
    "print('T[:] = ', T[:])\n",
    "print('T[0:] = ', T[0:])\n",
    "print('T[0:4] = ', T[0:4])\n",
    "print('T[0:5] = ', T[0:5])\n",
    "print('T[0:-1] = ', T[0:-1])\n",
    "print('T[2:] = ', T[2:])\n",
    "print('T[1:4] = ', T[1:4])"
   ]
  },
  {
   "cell_type": "markdown",
   "metadata": {},
   "source": [
    "## Example: Tuple update does not work being immutable "
   ]
  },
  {
   "cell_type": "code",
   "execution_count": 10,
   "metadata": {},
   "outputs": [
    {
     "ename": "TypeError",
     "evalue": "'tuple' object does not support item assignment",
     "output_type": "error",
     "traceback": [
      "\u001b[1;31m---------------------------------------------------------------------------\u001b[0m",
      "\u001b[1;31mTypeError\u001b[0m                                 Traceback (most recent call last)",
      "\u001b[1;32m<ipython-input-10-fe8422a74e58>\u001b[0m in \u001b[0;36m<module>\u001b[1;34m\u001b[0m\n\u001b[0;32m      1\u001b[0m \u001b[0mdata\u001b[0m \u001b[1;33m=\u001b[0m \u001b[1;33m(\u001b[0m\u001b[1;36m3\u001b[0m\u001b[1;33m,\u001b[0m \u001b[1;33m-\u001b[0m\u001b[1;36m2\u001b[0m\u001b[1;33m,\u001b[0m \u001b[1;36m5\u001b[0m\u001b[1;33m,\u001b[0m \u001b[1;36m0\u001b[0m\u001b[1;33m,\u001b[0m \u001b[1;36m7\u001b[0m\u001b[1;33m)\u001b[0m\u001b[1;33m\u001b[0m\u001b[1;33m\u001b[0m\u001b[0m\n\u001b[1;32m----> 2\u001b[1;33m \u001b[0mdata\u001b[0m\u001b[1;33m[\u001b[0m\u001b[1;36m1\u001b[0m\u001b[1;33m]\u001b[0m \u001b[1;33m=\u001b[0m \u001b[1;36m7\u001b[0m\u001b[1;33m\u001b[0m\u001b[1;33m\u001b[0m\u001b[0m\n\u001b[0m",
      "\u001b[1;31mTypeError\u001b[0m: 'tuple' object does not support item assignment"
     ]
    }
   ],
   "source": [
    "data = (3, -2, 5, 0, 7)\n",
    "data[1] = 7"
   ]
  },
  {
   "cell_type": "markdown",
   "metadata": {},
   "source": [
    "## Example: Operations +, * on tuple"
   ]
  },
  {
   "cell_type": "code",
   "execution_count": 11,
   "metadata": {},
   "outputs": [
    {
     "name": "stdout",
     "output_type": "stream",
     "text": [
      "T1+T2 =  (1, 3, -4, 7, 0, 6, 4, -2, 0, 8)\n",
      "2*T2 =  (4, -2, 0, 8, 4, -2, 0, 8)\n"
     ]
    }
   ],
   "source": [
    "T1 = (1, 3, -4, 7, 0, 6)\n",
    "T2 = (4, -2, 0, 8)\n",
    "T3 = T1 + T2\n",
    "print('T1+T2 = ',T3 )\n",
    "T4 = 2*T2\n",
    "print('2*T2 = ',T4 )"
   ]
  },
  {
   "cell_type": "code",
   "execution_count": 12,
   "metadata": {},
   "outputs": [],
   "source": [
    "## Iteration through a tuple"
   ]
  },
  {
   "cell_type": "code",
   "execution_count": 13,
   "metadata": {},
   "outputs": [
    {
     "name": "stdout",
     "output_type": "stream",
     "text": [
      "Pradeep\n",
      "Diwas\n",
      "Dikesh\n",
      "Suchit\n",
      "Oshan\n",
      "Sumit\n",
      "Binod\n",
      "Ayush\n",
      "Susmita\n",
      "Sanket\n",
      "Utsav\n",
      "Sanjeev\n",
      "Bigen\n",
      "Gaurab\n",
      "Partha\n",
      "Manish\n",
      "Sagar\n",
      "Paras\n",
      "Baibhav\n",
      "Sudip\n",
      "Shiva\n",
      "Bikram\n",
      "Pranjal\n"
     ]
    }
   ],
   "source": [
    "CS_Student = ('Pradeep','Diwas','Dikesh','Suchit','Oshan','Sumit','Binod','Ayush','Susmita','Sanket','Utsav','Sanjeev','Bigen','Gaurab','Partha','Manish','Sagar','Paras','Baibhav','Sudip','Shiva','Bikram','Pranjal')\n",
    "for name in CS_Student:\n",
    "    print(name)"
   ]
  },
  {
   "cell_type": "markdown",
   "metadata": {},
   "source": [
    "# User-defined Functions"
   ]
  },
  {
   "cell_type": "markdown",
   "metadata": {},
   "source": [
    "## Example-1: Single Output"
   ]
  },
  {
   "cell_type": "code",
   "execution_count": 8,
   "metadata": {},
   "outputs": [],
   "source": [
    "# single output\n",
    "def product(x,y):\n",
    "    p = x*y\n",
    "    return p\n",
    "P = product(3,4)"
   ]
  },
  {
   "cell_type": "code",
   "execution_count": 9,
   "metadata": {},
   "outputs": [
    {
     "name": "stdout",
     "output_type": "stream",
     "text": [
      "12\n"
     ]
    }
   ],
   "source": [
    "print(P)"
   ]
  },
  {
   "cell_type": "markdown",
   "metadata": {},
   "source": [
    "## Example-2: Multiple Output"
   ]
  },
  {
   "cell_type": "code",
   "execution_count": 6,
   "metadata": {},
   "outputs": [],
   "source": [
    "def sum_poduct(x,y):\n",
    "    s = x + y\n",
    "    p = x*y\n",
    "    return s,p\n",
    "\n",
    "result = sum_poduct(5,3)"
   ]
  },
  {
   "cell_type": "code",
   "execution_count": 7,
   "metadata": {},
   "outputs": [
    {
     "name": "stdout",
     "output_type": "stream",
     "text": [
      "(8, 15)\n"
     ]
    }
   ],
   "source": [
    "print(result)"
   ]
  },
  {
   "cell_type": "markdown",
   "metadata": {},
   "source": [
    "## Problem1: Design a fucntion that finds the roots of the  quadratic equation $𝑎𝑥^2+𝑏𝑥+𝑐=0 $ (inputs of the function are a, b, c) and output is the roots\n"
   ]
  },
  {
   "cell_type": "markdown",
   "metadata": {},
   "source": [
    "\n",
    "## Problem2: Design a fucntion$ y=𝑥^3+𝑠𝑖𝑛𝑥$ that takes the input a list $x=[-2𝜋,-3/2 𝜋,-𝜋,-𝜋/2, 0,𝜋/2,𝜋,3/2 𝜋,2𝜋]$ and returns output y also a list. Also, plot the graph of y versus x."
   ]
  },
  {
   "cell_type": "code",
   "execution_count": 5,
   "metadata": {},
   "outputs": [
    {
     "data": {
      "text/plain": [
       "[<matplotlib.lines.Line2D at 0x6212f90>]"
      ]
     },
     "execution_count": 5,
     "metadata": {},
     "output_type": "execute_result"
    },
    {
     "data": {
      "image/png": "[encoded data removed]",
      "text/plain": [
       "<Figure size 432x288 with 1 Axes>"
      ]
     },
     "metadata": {
      "needs_background": "light"
     },
     "output_type": "display_data"
    }
   ],
   "source": [
    "# Problem 2\n",
    "import math\n",
    "import matplotlib.pyplot as plt\n",
    "%matplotlib inline\n",
    "def my_fun(x):\n",
    "    y = []\n",
    "    for x0 in x: \n",
    "        y0 = x0**3 + math.sin(x0)\n",
    "        y0 = round(y0,2)\n",
    "        y.append(y0)\n",
    "    return y\n",
    "# Calling the function\n",
    "x = [-2*math.pi, -1.5*math.pi, -math.pi, 0, 0.5*math.pi, math.pi, 1.5*math.pi, 2*math.pi]\n",
    "y = my_fun(x)\n",
    "plt.plot(x,y,'o-')"
   ]
  },
  {
   "cell_type": "markdown",
   "metadata": {},
   "source": [
    "# Python Lambda Function"
   ]
  },
  {
   "cell_type": "markdown",
   "metadata": {},
   "source": [
    "## Example: Single Variable function: y=f(x)"
   ]
  },
  {
   "cell_type": "code",
   "execution_count": 4,
   "metadata": {},
   "outputs": [
    {
     "name": "stdout",
     "output_type": "stream",
     "text": [
      "-1\n"
     ]
    }
   ],
   "source": [
    "f = lambda x: x**2-3*x + 1 # It constructs the function 𝑓(𝑥)=𝑥^2−3𝑥+1\n",
    "y = f(1)\n",
    "print(y)"
   ]
  },
  {
   "cell_type": "markdown",
   "metadata": {},
   "source": [
    "## Example: Multi-variable Variable function: z=f(x,y)"
   ]
  },
  {
   "cell_type": "code",
   "execution_count": 3,
   "metadata": {},
   "outputs": [
    {
     "name": "stdout",
     "output_type": "stream",
     "text": [
      "25\n"
     ]
    }
   ],
   "source": [
    "f = lambda x,y: x**2 + y**2 # It constructs the function 𝑓(𝑥,𝑦)=𝑥^2+𝑦^2 \n",
    "z = f(3,-4)\n",
    "print(z)"
   ]
  },
  {
   "cell_type": "markdown",
   "metadata": {},
   "source": [
    "## Example: lambda function with map\n"
   ]
  },
  {
   "cell_type": "code",
   "execution_count": 1,
   "metadata": {},
   "outputs": [
    {
     "name": "stdout",
     "output_type": "stream",
     "text": [
      "[3, -1, -37, 75, 13, -5, 13]\n"
     ]
    }
   ],
   "source": [
    "x = [1, 0, -3, 4, 2, -1, 2] \n",
    "y = map(lambda x : x**3 + x*3 - 1, x)\n",
    "y = list(y) # convert map into list\n",
    "print(y)\n",
    "\n"
   ]
  },
  {
   "cell_type": "markdown",
   "metadata": {},
   "source": [
    "## Problem1: Using lambda construct $y=𝑥^3+√𝑥  −𝑒^{−𝑥} $ that takes the input a list  x=[0, 1, 2, ..., 20] and returns output y also a list. Also, plot the graph of y versus x. \n"
   ]
  },
  {
   "cell_type": "code",
   "execution_count": 2,
   "metadata": {},
   "outputs": [
    {
     "data": {
      "image/png": "[encoded data removed]",
      "text/plain": [
       "<Figure size 432x288 with 1 Axes>"
      ]
     },
     "metadata": {
      "needs_background": "light"
     },
     "output_type": "display_data"
    }
   ],
   "source": [
    "import math\n",
    "import matplotlib.pyplot as plt\n",
    "x = range(0,21)\n",
    "y = (map(lambda x : x**3 + math.sqrt(x) - math.exp(-x), x))\n",
    "y = list(y)\n",
    "plt.plot(x,y)\n",
    "plt.show()"
   ]
  }
 ],
 "metadata": {
  "kernelspec": {
   "display_name": "Python 3",
   "language": "python",
   "name": "python3"
  },
  "language_info": {
   "codemirror_mode": {
    "name": "ipython",
    "version": 3
   },
   "file_extension": ".py",
   "mimetype": "text/x-python",
   "name": "python",
   "nbconvert_exporter": "python",
   "pygments_lexer": "ipython3",
   "version": "3.7.6"
  }
 },
 "nbformat": 4,
 "nbformat_minor": 4
}
