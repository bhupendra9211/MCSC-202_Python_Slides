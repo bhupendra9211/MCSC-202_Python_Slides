{
 "cells": [
  {
   "cell_type": "markdown",
   "metadata": {},
   "source": [
    "# Creating NumPy Array\n",
    "## Example: 1D- NumPy Array"
   ]
  },
  {
   "cell_type": "code",
   "execution_count": 1,
   "metadata": {},
   "outputs": [
    {
     "name": "stdout",
     "output_type": "stream",
     "text": [
      "a =  [ 3.  -1.   0.   2.1]\n",
      "Type =  <class 'numpy.ndarray'>\n",
      "Data Type =  float64\n"
     ]
    }
   ],
   "source": [
    "import numpy as np\n",
    "a = np.array([3, -1, 0, 2.1])\n",
    "print('a = ',a)\n",
    "print ('Type = ', type(a))\n",
    "print('Data Type = ', a.dtype)\n"
   ]
  },
  {
   "cell_type": "markdown",
   "metadata": {},
   "source": [
    "## Example: 2D- NumPy Array\n"
   ]
  },
  {
   "cell_type": "code",
   "execution_count": 2,
   "metadata": {},
   "outputs": [
    {
     "name": "stdout",
     "output_type": "stream",
     "text": [
      "b =  [[ 3 -1  0]\n",
      " [ 1  3 -6]]\n",
      "\n",
      "Type =  <class 'numpy.ndarray'>\n",
      "Data Type =  int32\n",
      "Shape =  (2, 3)\n"
     ]
    }
   ],
   "source": [
    "import numpy as np\n",
    "b = np.array([[3, -1, 0],[1, 3, -6]])\n",
    "print('b = ',b)\n",
    "print('')\n",
    "print ('Type = ', type(b))\n",
    "print('Data Type = ', b.dtype)\n",
    "print('Shape = ', b.shape)\n"
   ]
  },
  {
   "cell_type": "markdown",
   "metadata": {},
   "source": [
    "##  Example: Using Built-in Functions to Create   1-D and 2-D array \n"
   ]
  },
  {
   "cell_type": "code",
   "execution_count": 3,
   "metadata": {},
   "outputs": [
    {
     "name": "stdout",
     "output_type": "stream",
     "text": [
      "a =  [0.  0.5 1.  1.5 2.  2.5 3.  3.5 4.  4.5 5.  5.5 6.  6.5 7.  7.5 8.  8.5\n",
      " 9.  9.5]\n",
      "b =  [-1.         -0.77777778 -0.55555556 -0.33333333 -0.11111111  0.11111111\n",
      "  0.33333333  0.55555556  0.77777778  1.        ]\n",
      "c =  [[0. 0.]\n",
      " [0. 0.]\n",
      " [0. 0.]]\n",
      "d =  [[1. 1. 1.]\n",
      " [1. 1. 1.]]\n",
      "I =  [[1. 0. 0.]\n",
      " [0. 1. 0.]\n",
      " [0. 0. 1.]]\n"
     ]
    }
   ],
   "source": [
    "import numpy as np\n",
    "\n",
    "# Generates 1-D array from 0 t0 10(exclude) with step size 0.5\n",
    "a = np.arange(0, 10, 0.5) \n",
    "print('a = ', a)\n",
    "\n",
    "# Generates 1-D array with 10 points equally spaced on the interval [-1,1]\n",
    "b = np.linspace(-1,1,10) \n",
    "print('b = ', b)\n",
    "\n",
    "# 3x2 zero matrix\n",
    "c = np.zeros((3, 2)) \n",
    "print('c = ', c)\n",
    "\n",
    "# 2x3 matrix of 1's\n",
    "d = np.ones((2, 3)) \n",
    "print('d = ', d)\n",
    "\n",
    "# 3x3 identity matrix\n",
    "I = np.eye(3) \n",
    "print('I = ', I)\n"
   ]
  },
  {
   "cell_type": "markdown",
   "metadata": {},
   "source": [
    "## Example: Mean, standard deviation, variance of 1D-Array"
   ]
  },
  {
   "cell_type": "code",
   "execution_count": 4,
   "metadata": {},
   "outputs": [
    {
     "name": "stdout",
     "output_type": "stream",
     "text": [
      "Mean =  3.14375\n",
      "Variance =  0.5649609375\n",
      "Standard Deviation =  0.7516388344810292\n"
     ]
    }
   ],
   "source": [
    "import numpy as np\n",
    "a = np.array([2.5, 3.5, 3.1, 4.0, 3.8, 2.5, 3.5, 3.7, 3.8, 3.9, 2.0,3.0, 2.3, 3.2, 4.0, 1.5,]) # Array of class grade\n",
    "mean = a.mean()\n",
    "print('Mean = ', mean)\n",
    "Var = a.var()\n",
    "print('Variance = ', Var)\n",
    "Std = a.std()\n",
    "print('Standard Deviation = ',Std)"
   ]
  },
  {
   "cell_type": "markdown",
   "metadata": {},
   "source": [
    "## Example: Indexing the 1-D Array"
   ]
  },
  {
   "cell_type": "code",
   "execution_count": 5,
   "metadata": {},
   "outputs": [
    {
     "name": "stdout",
     "output_type": "stream",
     "text": [
      "x[0] =  3\n",
      "x[1] =  -2\n",
      "x[2] =  5\n",
      "x[3] =  0\n",
      "x[4] =  7\n",
      "x[-1] =  -2\n",
      "x[-3] =  5\n"
     ]
    }
   ],
   "source": [
    "import numpy as np\n",
    "x = np.array([3, -2, 5, 0, 7]) \n",
    "print('x[0] = ',x[0])\n",
    "print('x[1] = ',x[1])\n",
    "print('x[2] = ',x[2])\n",
    "print('x[3] = ',x[3])\n",
    "print('x[4] = ',x[4])\n",
    "print('x[-1] = ',x[1])\n",
    "print('x[-3] = ',x[-3])"
   ]
  },
  {
   "cell_type": "markdown",
   "metadata": {},
   "source": [
    "## Example: Slicing the 1-D Array"
   ]
  },
  {
   "cell_type": "code",
   "execution_count": 6,
   "metadata": {},
   "outputs": [
    {
     "name": "stdout",
     "output_type": "stream",
     "text": [
      "x[:] =  [ 3 -2  5  0  7]\n",
      "x[0:] =  [ 3 -2  5  0  7]\n",
      "x[0:4] =  [ 3 -2  5  0]\n",
      "x[0:5] =  [ 3 -2  5  0  7]\n",
      "x[0:-1] =  [ 3 -2  5  0]\n",
      "x[2:] =  [5 0 7]\n",
      "x[1:4] =  [-2  5  0]\n"
     ]
    }
   ],
   "source": [
    "import numpy as np\n",
    "x = np.array([3, -2, 5, 0, 7])\n",
    "print('x[:] = ', x[:])\n",
    "print('x[0:] = ', x[0:])\n",
    "print('x[0:4] = ', x[0:4])\n",
    "print('x[0:5] = ', x[0:5])\n",
    "print('x[0:-1] = ', x[0:-1])\n",
    "print('x[2:] = ', x[2:])\n",
    "print('x[1:4] = ', x[1:4])"
   ]
  },
  {
   "cell_type": "markdown",
   "metadata": {},
   "source": [
    "## Example: Updating the 1-D Array"
   ]
  },
  {
   "cell_type": "code",
   "execution_count": 7,
   "metadata": {},
   "outputs": [
    {
     "name": "stdout",
     "output_type": "stream",
     "text": [
      "x =  [ 3 -2  5  0  7]\n",
      "x =  [ 4 -2  5  0  7]\n",
      "x =  [ 4 -2  5  0 -5]\n"
     ]
    }
   ],
   "source": [
    "x = np.array([3, -2, 5, 0, 7])\n",
    "print('x = ', x)\n",
    "x[0] = 4\n",
    "print('x = ', x)\n",
    "x[-1] = -5\n",
    "print('x = ', x)"
   ]
  },
  {
   "cell_type": "markdown",
   "metadata": {},
   "source": [
    "## Example: Indexing the 2-D Array"
   ]
  },
  {
   "cell_type": "code",
   "execution_count": 8,
   "metadata": {},
   "outputs": [
    {
     "name": "stdout",
     "output_type": "stream",
     "text": [
      "x =  [[ 1  0  3 -2]\n",
      " [ 2  1  0  7]\n",
      " [ 2 -3  1  4]]\n",
      "x[0,0] =  1\n",
      "x[1,1] =  0\n",
      "x[-1,-1] =  4\n",
      "x[-2,1] =  7\n"
     ]
    }
   ],
   "source": [
    "import numpy as np\n",
    "x = np.array([[1,0,3,-2],[2,1,0,7],[2,-3,1,4]])\n",
    "print('x = ',x)\n",
    "print('x[0,0] = ',x[0,0])\n",
    "print('x[1,1] = ',x[1,2])\n",
    "print('x[-1,-1] = ',x[-1,-1])\n",
    "print('x[-2,1] = ',x[-2,-1])\n",
    "\n"
   ]
  },
  {
   "cell_type": "markdown",
   "metadata": {},
   "source": [
    "## Example: Slicing the 2-D Array"
   ]
  },
  {
   "cell_type": "code",
   "execution_count": 9,
   "metadata": {},
   "outputs": [
    {
     "name": "stdout",
     "output_type": "stream",
     "text": [
      "x =  [[ 1  0  3 -2]\n",
      " [ 2  1  0  7]\n",
      " [ 2 -3  1  4]]\n",
      "x[:,0] =  [1 2 2]\n",
      "x[1,:] =  [2 1 0 7]\n",
      "x[1:3,2:4] =  [[0 7]\n",
      " [1 4]]\n"
     ]
    }
   ],
   "source": [
    "import numpy as np\n",
    "x = np.array([[1,0,3,-2],[2,1,0,7],[2,-3,1,4]])\n",
    "print('x = ',x)\n",
    "print('x[:,0] = ', x[:,0])\n",
    "print('x[1,:] = ', x[1,:])\n",
    "print('x[1:3,2:4] = ', x[1:3,2:4])\n"
   ]
  },
  {
   "cell_type": "markdown",
   "metadata": {},
   "source": [
    "## Example: Updating the 2-D Array"
   ]
  },
  {
   "cell_type": "code",
   "execution_count": 10,
   "metadata": {},
   "outputs": [
    {
     "name": "stdout",
     "output_type": "stream",
     "text": [
      "x =  [[ 1  0  3 -2]\n",
      " [ 2  1  0  7]\n",
      " [ 2 -3  1  4]]\n",
      "x =  [[ 4  0  3 -2]\n",
      " [ 2  1  0  7]\n",
      " [ 2 -3  1 -1]]\n"
     ]
    }
   ],
   "source": [
    "import numpy as np\n",
    "x = np.array([[1,0,3,-2],[2,1,0,7],[2,-3,1,4]])\n",
    "print('x = ',x)\n",
    "x[0,0] = 4\n",
    "x[-1,-1] = -1\n",
    "print('x = ',x)"
   ]
  },
  {
   "cell_type": "markdown",
   "metadata": {},
   "source": [
    "## Example: Arithmetic Operations on 1-D Array\n"
   ]
  },
  {
   "cell_type": "code",
   "execution_count": 11,
   "metadata": {},
   "outputs": [
    {
     "name": "stdout",
     "output_type": "stream",
     "text": [
      "x+y =  [-1  1  5  1]\n",
      "x*y =  [-2  0  6 -6]\n",
      "x/y =  [-0.5         0.          1.5        -0.66666667]\n"
     ]
    }
   ],
   "source": [
    "import numpy as np\n",
    "x = np.array([1,0,3,-2])\n",
    "y = np.array([-2,1,2,3])\n",
    "z1 = x + y\n",
    "z2 = x*y\n",
    "z3 = x/y\n",
    "print('x+y = ', z1)\n",
    "print('x*y = ', z2)\n",
    "print('x/y = ', z3)"
   ]
  },
  {
   "cell_type": "markdown",
   "metadata": {},
   "source": [
    "## Example: Arithmetic Operations on 2-D Array"
   ]
  },
  {
   "cell_type": "code",
   "execution_count": 12,
   "metadata": {},
   "outputs": [
    {
     "name": "stdout",
     "output_type": "stream",
     "text": [
      "A+B =  [[-1  1  5]\n",
      " [ 7  4  3]\n",
      " [ 4  4  7]]\n",
      "A*B =  [[-2  0  6]\n",
      " [10  3 -4]\n",
      " [ 4  3 10]]\n",
      "A/B =  [[-0.5         0.          1.5       ]\n",
      " [ 0.4         0.33333333 -4.        ]\n",
      " [ 1.          0.33333333  2.5       ]]\n",
      "A%B =  [[-1  0  1]\n",
      " [ 2  1  0]\n",
      " [ 0  1  1]]\n"
     ]
    }
   ],
   "source": [
    "import numpy as np\n",
    "A = np.array([[1,0,3],[2,1,4],[2,1,5]])\n",
    "B = np.array([[-2,1,2],[5,3,-1],[2,3,2]])\n",
    "C1 = A + B\n",
    "C2 = A * B\n",
    "C3 = A / B\n",
    "C4 = A % B\n",
    "print('A+B = ', C1)\n",
    "print('A*B = ', C2)\n",
    "print('A/B = ', C3)\n",
    "print('A%B = ', C4)\n",
    "\n",
    "\n"
   ]
  },
  {
   "cell_type": "markdown",
   "metadata": {},
   "source": [
    "## Example: Scalar $\\alpha$ Arithmetic Operations with Array $A$\n",
    "## $\\alpha + A$, $\\alpha*A$, $A/\\alpha$"
   ]
  },
  {
   "cell_type": "code",
   "execution_count": 13,
   "metadata": {},
   "outputs": [
    {
     "name": "stdout",
     "output_type": "stream",
     "text": [
      "A =  [[1 0 3]\n",
      " [2 1 4]\n",
      " [2 1 5]]\n",
      "alpha+A =  [[3 2 5]\n",
      " [4 3 6]\n",
      " [4 3 7]]\n",
      "alpha*A =  [[ 2  0  6]\n",
      " [ 4  2  8]\n",
      " [ 4  2 10]]\n",
      "A/alpha =  [[0.5 0.  1.5]\n",
      " [1.  0.5 2. ]\n",
      " [1.  0.5 2.5]]\n"
     ]
    }
   ],
   "source": [
    "import numpy as np\n",
    "A = np.array([[1,0,3],[2,1,4],[2,1,5]])\n",
    "alpha = 2\n",
    "print('A = ', A)\n",
    "print('alpha+A = ', alpha + A)\n",
    "print('alpha*A = ', alpha*A)\n",
    "print('A/alpha = ', A/alpha)"
   ]
  },
  {
   "cell_type": "markdown",
   "metadata": {},
   "source": [
    "# NumPy Linear Algebra\n",
    "## Scalar product\n"
   ]
  },
  {
   "cell_type": "code",
   "execution_count": 14,
   "metadata": {},
   "outputs": [
    {
     "name": "stdout",
     "output_type": "stream",
     "text": [
      "-7\n"
     ]
    }
   ],
   "source": [
    "\n",
    "import numpy as np\n",
    "a = np.array([3,1,2])\n",
    "b = np.array([-2,3,-2])\n",
    "c = np.dot(a,b)\n",
    "print(c)"
   ]
  },
  {
   "cell_type": "markdown",
   "metadata": {},
   "source": [
    "## Vector product"
   ]
  },
  {
   "cell_type": "code",
   "execution_count": 15,
   "metadata": {},
   "outputs": [
    {
     "name": "stdout",
     "output_type": "stream",
     "text": [
      "[-8  2 11]\n"
     ]
    }
   ],
   "source": [
    "#import numpy as np\n",
    "a = np.array([3,1,2])\n",
    "b = np.array([-2,3,-2])\n",
    "c = np.cross(a,b)\n",
    "print(c)"
   ]
  },
  {
   "cell_type": "markdown",
   "metadata": {},
   "source": [
    "## Matrix Multiplication"
   ]
  },
  {
   "cell_type": "code",
   "execution_count": 16,
   "metadata": {},
   "outputs": [
    {
     "name": "stdout",
     "output_type": "stream",
     "text": [
      "[[ -2  12 -11]\n",
      " [ 12   4 -12]]\n"
     ]
    }
   ],
   "source": [
    "#import numpy as np\n",
    "A = np.array([[3,1,2],[-1,2,5]])\n",
    "B = np.array([[-2,3,-2],[0,1,3],[2,1,-4]])\n",
    "C= np.matmul(A,B)\n",
    "print(C)\n"
   ]
  },
  {
   "cell_type": "markdown",
   "metadata": {},
   "source": [
    "## Matrix Multiplication (Another way)\n",
    "### Converting array into matrix"
   ]
  },
  {
   "cell_type": "code",
   "execution_count": 17,
   "metadata": {},
   "outputs": [
    {
     "name": "stdout",
     "output_type": "stream",
     "text": [
      "[[ -2  12 -11]\n",
      " [ 12   4 -12]]\n"
     ]
    }
   ],
   "source": [
    "#import numpy as np\n",
    "A = np.array([[3,1,2],[-1,2,5]])\n",
    "B = np.array([[-2,3,-2],[0,1,3],[2,1,-4]])\n",
    "A = np.matrix(A)\n",
    "B = np.matrix(B)\n",
    "C= A*B\n",
    "print(C)"
   ]
  },
  {
   "cell_type": "markdown",
   "metadata": {},
   "source": [
    "## Determinant of a Matrix"
   ]
  },
  {
   "cell_type": "code",
   "execution_count": 18,
   "metadata": {},
   "outputs": [],
   "source": [
    "import numpy as np\n",
    "A = np.array([[-2,3,-2],[0,1,3],[2,1,-4]])\n",
    "Det = np.linalg.det(A)\n"
   ]
  },
  {
   "cell_type": "markdown",
   "metadata": {},
   "source": [
    "## Inverse of a Matrix"
   ]
  },
  {
   "cell_type": "code",
   "execution_count": 19,
   "metadata": {},
   "outputs": [
    {
     "name": "stdout",
     "output_type": "stream",
     "text": [
      "[[-0.19444444  0.27777778  0.30555556]\n",
      " [ 0.16666667  0.33333333  0.16666667]\n",
      " [-0.05555556  0.22222222 -0.05555556]]\n"
     ]
    }
   ],
   "source": [
    "#import numpy as np\n",
    "A = np.array([[-2,3,-2],[0,1,3],[2,1,-4]])\n",
    "A_inv = np.linalg.inv(A)\n",
    "print(A_inv)"
   ]
  },
  {
   "cell_type": "markdown",
   "metadata": {},
   "source": [
    "## Solve a System of Linear Equations\n",
    "### $$2x+4y+2z=16\\\\-2x-3y+z=-5\\\\2x+2y-3z=-3$$"
   ]
  },
  {
   "cell_type": "code",
   "execution_count": 20,
   "metadata": {},
   "outputs": [
    {
     "name": "stdout",
     "output_type": "stream",
     "text": [
      "[1. 2. 3.]\n"
     ]
    }
   ],
   "source": [
    "#import numpy as np\n",
    "A = np.array([[2,4,2],[-2,-3,1],[2,2,-3]])\n",
    "b = np.array([16,-5,-3])\n",
    "X = np.linalg.solve(A,b)\n",
    "print(X)"
   ]
  },
  {
   "cell_type": "markdown",
   "metadata": {},
   "source": [
    "# Random Numbers in NumPy"
   ]
  },
  {
   "cell_type": "markdown",
   "metadata": {},
   "source": [
    "## Example: Uniformaly distributed random number on [0,1] of size mxn\n",
    "### Syntax: np.ranom.rand(m,n)\n"
   ]
  },
  {
   "cell_type": "code",
   "execution_count": 21,
   "metadata": {},
   "outputs": [
    {
     "name": "stdout",
     "output_type": "stream",
     "text": [
      "R1 =  [0.06605519 0.20574304 0.92036353]\n",
      "R2 =  [[0.59029482 0.04830864 0.66846596]]\n",
      "R3 =  [[0.79312227 0.91509326]\n",
      " [0.25801221 0.684437  ]\n",
      " [0.85428208 0.93240939]]\n"
     ]
    }
   ],
   "source": [
    "import numpy as np\n",
    "R1  = np.random.rand(3)\n",
    "R2  = np.random.rand(1,3)\n",
    "R3  = np.random.rand(3,2)\n",
    "print('R1 = ', R1)\n",
    "print('R2 = ', R2)\n",
    "print('R3 = ', R3)"
   ]
  },
  {
   "cell_type": "markdown",
   "metadata": {},
   "source": [
    "## Example: Standard normal ly  distributed random number of size mxn\n",
    "### Syntax: np.ranom.randn(m,n)"
   ]
  },
  {
   "cell_type": "code",
   "execution_count": 22,
   "metadata": {},
   "outputs": [
    {
     "name": "stdout",
     "output_type": "stream",
     "text": [
      "R1 =  [0.70572368 0.41323827 0.06883548]\n",
      "R2 =  [[-0.67432006 -0.20310805 -0.175312  ]]\n",
      "R3 =  [[-2.02277104 -0.01135208]\n",
      " [ 0.81524839 -0.97210814]\n",
      " [ 0.105472    0.45644087]]\n"
     ]
    }
   ],
   "source": [
    "import numpy as np\n",
    "R1  = np.random.randn(3)\n",
    "R2  = np.random.randn(1,3)\n",
    "R3  = np.random.randn(3,2)\n",
    "print('R1 = ', R1)\n",
    "print('R2 = ', R2)\n",
    "print('R3 = ', R3)"
   ]
  },
  {
   "cell_type": "markdown",
   "metadata": {},
   "source": [
    "## Example: Random intergers from low L to high H (exclusive) of given size mxn\n",
    "### Syntax: np.ranom.randint(L,H,(m,n))"
   ]
  },
  {
   "cell_type": "code",
   "execution_count": 23,
   "metadata": {},
   "outputs": [
    {
     "name": "stdout",
     "output_type": "stream",
     "text": [
      "R1 =  [9 2 5 8 0]\n",
      "R2 =  [[5 5 4 1 2]]\n",
      "R3 =  [[8 9 7]\n",
      " [7 4 4]\n",
      " [9 6 5]\n",
      " [3 3 6]]\n"
     ]
    }
   ],
   "source": [
    "import numpy as np\n",
    "R1  = np.random.randint(0,10,5)\n",
    "R2  = np.random.randint(0,10,(1,5))\n",
    "R3  = np.random.randint(2,10,(4,3))\n",
    "print('R1 = ', R1)\n",
    "print('R2 = ', R2)\n",
    "print('R3 = ', R3)\n"
   ]
  },
  {
   "cell_type": "code",
   "execution_count": null,
   "metadata": {},
   "outputs": [],
   "source": []
  }
 ],
 "metadata": {
  "kernelspec": {
   "display_name": "Python 3",
   "language": "python",
   "name": "python3"
  },
  "language_info": {
   "codemirror_mode": {
    "name": "ipython",
    "version": 3
   },
   "file_extension": ".py",
   "mimetype": "text/x-python",
   "name": "python",
   "nbconvert_exporter": "python",
   "pygments_lexer": "ipython3",
   "version": "3.7.6"
  }
 },
 "nbformat": 4,
 "nbformat_minor": 4
}
