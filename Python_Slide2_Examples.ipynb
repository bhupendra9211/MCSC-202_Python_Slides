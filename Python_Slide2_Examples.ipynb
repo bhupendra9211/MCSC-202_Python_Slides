{
 "cells": [
  {
   "cell_type": "markdown",
   "metadata": {},
   "source": [
    "# Examples: Slide-2\n",
    "# Variable:\n",
    "## assignment, type, id"
   ]
  },
  {
   "cell_type": "code",
   "execution_count": 1,
   "metadata": {},
   "outputs": [
    {
     "name": "stdout",
     "output_type": "stream",
     "text": [
      "a = 5\n",
      "type =  <class 'int'>\n",
      "id =  1795217696\n"
     ]
    }
   ],
   "source": [
    "a = 5\n",
    "\n",
    "print('a =', a)\n",
    "print('type = ',type(a))\n",
    "print('id = ', id(a))"
   ]
  },
  {
   "cell_type": "code",
   "execution_count": 2,
   "metadata": {},
   "outputs": [
    {
     "name": "stdout",
     "output_type": "stream",
     "text": [
      "a = 5.0\n",
      "type =  <class 'float'>\n",
      "id =  56854816\n"
     ]
    }
   ],
   "source": [
    "a = 5.0\n",
    "print('a =', a)\n",
    "print('type = ',type(a))\n",
    "print('id = ', id(a))"
   ]
  },
  {
   "cell_type": "code",
   "execution_count": 3,
   "metadata": {},
   "outputs": [
    {
     "name": "stdout",
     "output_type": "stream",
     "text": [
      "a = (2-2j)\n",
      "type =  <class 'complex'>\n",
      "id =  56905432\n"
     ]
    }
   ],
   "source": [
    "a = 2-2j\n",
    "print('a =', a)\n",
    "print('type = ',type(a))\n",
    "print('id = ', id(a))"
   ]
  },
  {
   "cell_type": "code",
   "execution_count": 4,
   "metadata": {},
   "outputs": [
    {
     "name": "stdout",
     "output_type": "stream",
     "text": [
      "a = KU\n",
      "type =  <class 'str'>\n",
      "id =  57200768\n"
     ]
    }
   ],
   "source": [
    "a = 'KU'\n",
    "print('a =', a)\n",
    "print('type = ',type(a))\n",
    "print('id = ', id(a))"
   ]
  },
  {
   "cell_type": "markdown",
   "metadata": {},
   "source": [
    "## Variable name can not be keywords"
   ]
  },
  {
   "cell_type": "code",
   "execution_count": 5,
   "metadata": {},
   "outputs": [
    {
     "ename": "SyntaxError",
     "evalue": "invalid syntax (<ipython-input-5-09c0dd5fd1e4>, line 1)",
     "output_type": "error",
     "traceback": [
      "\u001b[1;36m  File \u001b[1;32m\"<ipython-input-5-09c0dd5fd1e4>\"\u001b[1;36m, line \u001b[1;32m1\u001b[0m\n\u001b[1;33m    for = 2.3 # Gives syntax error\u001b[0m\n\u001b[1;37m        ^\u001b[0m\n\u001b[1;31mSyntaxError\u001b[0m\u001b[1;31m:\u001b[0m invalid syntax\n"
     ]
    }
   ],
   "source": [
    "for = 2.3 # Gives syntax error\n"
   ]
  },
  {
   "cell_type": "markdown",
   "metadata": {},
   "source": [
    "# Operators"
   ]
  },
  {
   "cell_type": "markdown",
   "metadata": {},
   "source": [
    "## Arthematic Operators (+, -, *, /,**, %)\n"
   ]
  },
  {
   "cell_type": "code",
   "execution_count": null,
   "metadata": {},
   "outputs": [],
   "source": [
    "a = 2*3 - 4**2 + 8/2*(3-2*4%3)\n",
    "b = 2*3 - 4**2 + 8//2*(3-2*4%3)\n",
    "print('a = ',a,',','b = ',b)"
   ]
  },
  {
   "cell_type": "markdown",
   "metadata": {},
   "source": [
    "## Assignment Operators"
   ]
  },
  {
   "cell_type": "code",
   "execution_count": 6,
   "metadata": {},
   "outputs": [
    {
     "name": "stdout",
     "output_type": "stream",
     "text": [
      "a =  7\n"
     ]
    }
   ],
   "source": [
    "a = 4\n",
    "a+=3\n",
    "print('a = ',a)"
   ]
  },
  {
   "cell_type": "code",
   "execution_count": 7,
   "metadata": {},
   "outputs": [
    {
     "name": "stdout",
     "output_type": "stream",
     "text": [
      "a =  9\n"
     ]
    }
   ],
   "source": [
    "a = 3\n",
    "a **= 2\n",
    "print('a = ', a)"
   ]
  },
  {
   "cell_type": "markdown",
   "metadata": {},
   "source": [
    "## Logical Operators\n"
   ]
  },
  {
   "cell_type": "code",
   "execution_count": 8,
   "metadata": {},
   "outputs": [
    {
     "name": "stdout",
     "output_type": "stream",
     "text": [
      "x and y:  False\n",
      "x or y:  True\n",
      " not y:  True\n"
     ]
    }
   ],
   "source": [
    "x = True\n",
    "y = False\n",
    "print('x and y: ', x and y)\n",
    "print('x or y: ', x or y)\n",
    "print(' not y: ', not y)"
   ]
  },
  {
   "cell_type": "markdown",
   "metadata": {},
   "source": [
    "## Comparison Operators\n"
   ]
  },
  {
   "cell_type": "code",
   "execution_count": 9,
   "metadata": {},
   "outputs": [
    {
     "name": "stdout",
     "output_type": "stream",
     "text": [
      "a>b:  False\n",
      "a==c:  False\n",
      "a<b:  True\n",
      "a>=c:  False\n"
     ]
    }
   ],
   "source": [
    "a = 3\n",
    "b = 6\n",
    "c = 3\n",
    "print ('a>b: ',a>b)\n",
    "print ('a==c: ',a==b)\n",
    "print ('a<b: ',a<b)\n",
    "print ('a>=c: ',a>=b)"
   ]
  },
  {
   "cell_type": "markdown",
   "metadata": {},
   "source": [
    "# Math Functions"
   ]
  },
  {
   "cell_type": "markdown",
   "metadata": {},
   "source": [
    "## Simpe Math Calculation\n",
    "\n",
    "### If $x=3,\\theta=\\frac{\\pi}{3}$, evaluate $\\frac{x^3+\\tan\\theta-\\sinh\\sqrt{x}}{\\ln x -e^\\theta}$"
   ]
  },
  {
   "cell_type": "code",
   "execution_count": 10,
   "metadata": {},
   "outputs": [
    {
     "name": "stdout",
     "output_type": "stream",
     "text": [
      "value = -14.845103784722442\n"
     ]
    }
   ],
   "source": [
    "import math \n",
    "x = 3.0\n",
    "theta = math.pi/3.0\n",
    "num = x**3 + math.tan(theta)-math.sinh(math.sqrt(x))\n",
    "den = math.log(x)-math.exp(theta)\n",
    "value = num/den\n",
    "print('value =',value)"
   ]
  },
  {
   "cell_type": "markdown",
   "metadata": {},
   "source": [
    "## Help Command: dir(), help()"
   ]
  },
  {
   "cell_type": "code",
   "execution_count": 11,
   "metadata": {},
   "outputs": [],
   "source": [
    "# dir(math)"
   ]
  },
  {
   "cell_type": "code",
   "execution_count": 12,
   "metadata": {},
   "outputs": [],
   "source": [
    "# help(math)"
   ]
  },
  {
   "cell_type": "code",
   "execution_count": 13,
   "metadata": {},
   "outputs": [
    {
     "name": "stdout",
     "output_type": "stream",
     "text": [
      "Help on built-in function exp in module math:\n",
      "\n",
      "exp(x, /)\n",
      "    Return e raised to the power of x.\n",
      "\n"
     ]
    }
   ],
   "source": [
    "help(math.exp)"
   ]
  },
  {
   "cell_type": "markdown",
   "metadata": {},
   "source": [
    "# Comments"
   ]
  },
  {
   "cell_type": "markdown",
   "metadata": {},
   "source": [
    "## Comments using  $#$ : single line comment"
   ]
  },
  {
   "cell_type": "code",
   "execution_count": 14,
   "metadata": {},
   "outputs": [
    {
     "name": "stdout",
     "output_type": "stream",
     "text": [
      "Hello, World!\n"
     ]
    }
   ],
   "source": [
    "# Print “Hello, World!” to console\n",
    "print(\"Hello, World!\") \n"
   ]
  },
  {
   "cell_type": "markdown",
   "metadata": {},
   "source": [
    "## Comments using  $'''~'''$ : Multiple line comments"
   ]
  },
  {
   "cell_type": "code",
   "execution_count": 15,
   "metadata": {},
   "outputs": [
    {
     "name": "stdout",
     "output_type": "stream",
     "text": [
      "Hello World\n"
     ]
    }
   ],
   "source": [
    "''' I am a \n",
    "multiple line\n",
    "comments\n",
    "'''\n",
    "print (\"Hello World\") \n"
   ]
  },
  {
   "cell_type": "markdown",
   "metadata": {},
   "source": [
    "# Print Fucntion"
   ]
  },
  {
   "cell_type": "markdown",
   "metadata": {},
   "source": [
    "## Simple print "
   ]
  },
  {
   "cell_type": "code",
   "execution_count": 16,
   "metadata": {},
   "outputs": [
    {
     "name": "stdout",
     "output_type": "stream",
     "text": [
      "Hello, world!\n",
      "You have 20 years until retirement\n"
     ]
    }
   ],
   "source": [
    "print(\"Hello, world!\")\n",
    "age = 45\n",
    "print(\"You have\", 65 - age, \"years until retirement\")\n"
   ]
  },
  {
   "cell_type": "markdown",
   "metadata": {},
   "source": [
    "## Formatted print\n",
    "### Print single value"
   ]
  },
  {
   "cell_type": "code",
   "execution_count": 17,
   "metadata": {},
   "outputs": [
    {
     "name": "stdout",
     "output_type": "stream",
     "text": [
      "pi =  3.141592653589793\n",
      "The approx. value of pi is 3.142.\n",
      "The your age is is   0021.\n"
     ]
    }
   ],
   "source": [
    "import math\n",
    "print('pi = ',math.pi)\n",
    "print('The approx. value of pi is %4.3f.' % math.pi) # 5: width, 3:No. of decimal digits, f: float point, e: exponential format\n",
    "\n",
    "age = 21.5\n",
    "print('The your age is is %6.4d.' % age) #  d: signed interger\n",
    "\n"
   ]
  },
  {
   "cell_type": "markdown",
   "metadata": {},
   "source": [
    "### Print multiple value"
   ]
  },
  {
   "cell_type": "code",
   "execution_count": 18,
   "metadata": {},
   "outputs": [
    {
     "name": "stdout",
     "output_type": "stream",
     "text": [
      "6 Bananas cost Rs 60.00\n",
      "2 kg suger cost Rs 160.00\n"
     ]
    }
   ],
   "source": [
    "N = 6\n",
    "Fruit = 'Bananas'\n",
    "Cost = 60\n",
    "tuple = (2, 'suger', 160)\n",
    "print('%d %s cost Rs %5.2f' % (N, Fruit, Cost))\n",
    "print('%d kg %s cost Rs %5.2f' % tuple)"
   ]
  },
  {
   "cell_type": "markdown",
   "metadata": {},
   "source": [
    "# Writing into a File"
   ]
  },
  {
   "cell_type": "code",
   "execution_count": 19,
   "metadata": {},
   "outputs": [],
   "source": [
    "file= open(\"Calculated_Data.txt\",\"w+\")\n",
    "file.write('%s\\t%s\\n'%('# x-value','y-value'))\n",
    "file.write('\\n')\n",
    "for i in range(10):\n",
    "    x = i\n",
    "    y = x**2 \n",
    "    file.write('%3d\\t\\t%3d \\n'%(x,y))\n",
    "#    file.write(2*'%3d \\n'%(x,y)) # If array of same type has many columns format can be done by multiplication \n",
    "file.close()\n"
   ]
  },
  {
   "cell_type": "code",
   "execution_count": 20,
   "metadata": {},
   "outputs": [
    {
     "name": "stdout",
     "output_type": "stream",
     "text": [
      "[[ 0.  0.]\n",
      " [ 1.  1.]\n",
      " [ 2.  4.]\n",
      " [ 3.  9.]\n",
      " [ 4. 16.]\n",
      " [ 5. 25.]\n",
      " [ 6. 36.]\n",
      " [ 7. 49.]\n",
      " [ 8. 64.]\n",
      " [ 9. 81.]]\n"
     ]
    }
   ],
   "source": [
    "import numpy as np\n",
    "a = np.loadtxt('Calculated_Data.txt')\n",
    "print(a)\n"
   ]
  }
 ],
 "metadata": {
  "kernelspec": {
   "display_name": "Python 3",
   "language": "python",
   "name": "python3"
  },
  "language_info": {
   "codemirror_mode": {
    "name": "ipython",
    "version": 3
   },
   "file_extension": ".py",
   "mimetype": "text/x-python",
   "name": "python",
   "nbconvert_exporter": "python",
   "pygments_lexer": "ipython3",
   "version": "3.7.6"
  }
 },
 "nbformat": 4,
 "nbformat_minor": 4
}
